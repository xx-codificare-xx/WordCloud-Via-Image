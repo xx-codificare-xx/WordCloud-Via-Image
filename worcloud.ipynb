{
 "cells": [
  {
   "cell_type": "code",
   "execution_count": 1,
   "metadata": {},
   "outputs": [
    {
     "name": "stdout",
     "output_type": "stream",
     "text": [
      "Requirement already satisfied: wordcloud in c:\\users\\super\\anaconda\\lib\\site-packages (1.7.0)\n",
      "Requirement already satisfied: matplotlib in c:\\users\\super\\anaconda\\lib\\site-packages (from wordcloud) (3.1.3)\n",
      "Requirement already satisfied: pillow in c:\\users\\super\\anaconda\\lib\\site-packages (from wordcloud) (7.0.0)\n",
      "Requirement already satisfied: numpy>=1.6.1 in c:\\users\\super\\anaconda\\lib\\site-packages (from wordcloud) (1.18.1)\n",
      "Requirement already satisfied: cycler>=0.10 in c:\\users\\super\\anaconda\\lib\\site-packages (from matplotlib->wordcloud) (0.10.0)\n",
      "Requirement already satisfied: python-dateutil>=2.1 in c:\\users\\super\\anaconda\\lib\\site-packages (from matplotlib->wordcloud) (2.8.1)\n",
      "Requirement already satisfied: kiwisolver>=1.0.1 in c:\\users\\super\\anaconda\\lib\\site-packages (from matplotlib->wordcloud) (1.1.0)\n",
      "Requirement already satisfied: pyparsing!=2.0.4,!=2.1.2,!=2.1.6,>=2.0.1 in c:\\users\\super\\anaconda\\lib\\site-packages (from matplotlib->wordcloud) (2.4.6)\n",
      "Requirement already satisfied: six in c:\\users\\super\\anaconda\\lib\\site-packages (from cycler>=0.10->matplotlib->wordcloud) (1.14.0)\n",
      "Requirement already satisfied: setuptools in c:\\users\\super\\anaconda\\lib\\site-packages (from kiwisolver>=1.0.1->matplotlib->wordcloud) (45.2.0.post20200210)\n"
     ]
    },
    {
     "name": "stderr",
     "output_type": "stream",
     "text": [
      "WARNING: You are using pip version 20.2; however, version 20.2.1 is available.\n",
      "You should consider upgrading via the 'c:\\users\\super\\anaconda\\python.exe -m pip install --upgrade pip' command.\n"
     ]
    },
    {
     "name": "stdout",
     "output_type": "stream",
     "text": [
      "Requirement already satisfied: fileupload in c:\\users\\super\\anaconda\\lib\\site-packages (0.1.5)\n",
      "Requirement already satisfied: traitlets>=4.2 in c:\\users\\super\\anaconda\\lib\\site-packages (from fileupload) (4.3.3)\n",
      "Requirement already satisfied: notebook>=4.2 in c:\\users\\super\\anaconda\\lib\\site-packages (from fileupload) (6.0.3)\n",
      "Requirement already satisfied: ipywidgets>=5.1 in c:\\users\\super\\anaconda\\lib\\site-packages (from fileupload) (7.5.1)\n",
      "Requirement already satisfied: decorator in c:\\users\\super\\anaconda\\lib\\site-packages (from traitlets>=4.2->fileupload) (4.4.1)\n",
      "Requirement already satisfied: ipython-genutils in c:\\users\\super\\anaconda\\lib\\site-packages (from traitlets>=4.2->fileupload) (0.2.0)\n",
      "Requirement already satisfied: six in c:\\users\\super\\anaconda\\lib\\site-packages (from traitlets>=4.2->fileupload) (1.14.0)\n",
      "Requirement already satisfied: nbformat in c:\\users\\super\\anaconda\\lib\\site-packages (from notebook>=4.2->fileupload) (5.0.4)\n",
      "Requirement already satisfied: tornado>=5.0 in c:\\users\\super\\anaconda\\lib\\site-packages (from notebook>=4.2->fileupload) (6.0.3)\n",
      "Requirement already satisfied: jinja2 in c:\\users\\super\\anaconda\\lib\\site-packages (from notebook>=4.2->fileupload) (2.11.1)\n",
      "Requirement already satisfied: Send2Trash in c:\\users\\super\\anaconda\\lib\\site-packages (from notebook>=4.2->fileupload) (1.5.0)\n",
      "Requirement already satisfied: jupyter-core>=4.6.1 in c:\\users\\super\\anaconda\\lib\\site-packages (from notebook>=4.2->fileupload) (4.6.1)\n",
      "Requirement already satisfied: nbconvert in c:\\users\\super\\anaconda\\lib\\site-packages (from notebook>=4.2->fileupload) (5.6.1)\n",
      "Requirement already satisfied: prometheus-client in c:\\users\\super\\anaconda\\lib\\site-packages (from notebook>=4.2->fileupload) (0.7.1)\n",
      "Requirement already satisfied: terminado>=0.8.1 in c:\\users\\super\\anaconda\\lib\\site-packages (from notebook>=4.2->fileupload) (0.8.3)\n",
      "Requirement already satisfied: pyzmq>=17 in c:\\users\\super\\anaconda\\lib\\site-packages (from notebook>=4.2->fileupload) (18.1.1)\n",
      "Requirement already satisfied: jupyter-client>=5.3.4 in c:\\users\\super\\anaconda\\lib\\site-packages (from notebook>=4.2->fileupload) (5.3.4)\n",
      "Requirement already satisfied: ipykernel in c:\\users\\super\\anaconda\\lib\\site-packages (from notebook>=4.2->fileupload) (5.1.4)\n",
      "Requirement already satisfied: ipython>=4.0.0; python_version >= \"3.3\" in c:\\users\\super\\anaconda\\lib\\site-packages (from ipywidgets>=5.1->fileupload) (7.12.0)\n",
      "Requirement already satisfied: widgetsnbextension~=3.5.0 in c:\\users\\super\\anaconda\\lib\\site-packages (from ipywidgets>=5.1->fileupload) (3.5.1)\n",
      "Requirement already satisfied: jsonschema!=2.5.0,>=2.4 in c:\\users\\super\\anaconda\\lib\\site-packages (from nbformat->notebook>=4.2->fileupload) (3.2.0)\n",
      "Requirement already satisfied: MarkupSafe>=0.23 in c:\\users\\super\\anaconda\\lib\\site-packages (from jinja2->notebook>=4.2->fileupload) (1.1.1)\n",
      "Requirement already satisfied: pywin32>=1.0; sys_platform == \"win32\" in c:\\users\\super\\anaconda\\lib\\site-packages (from jupyter-core>=4.6.1->notebook>=4.2->fileupload) (227)\n",
      "Requirement already satisfied: defusedxml in c:\\users\\super\\anaconda\\lib\\site-packages (from nbconvert->notebook>=4.2->fileupload) (0.6.0)\n",
      "Requirement already satisfied: entrypoints>=0.2.2 in c:\\users\\super\\anaconda\\lib\\site-packages (from nbconvert->notebook>=4.2->fileupload) (0.3)\n",
      "Requirement already satisfied: mistune<2,>=0.8.1 in c:\\users\\super\\anaconda\\lib\\site-packages (from nbconvert->notebook>=4.2->fileupload) (0.8.4)\n",
      "Requirement already satisfied: bleach in c:\\users\\super\\anaconda\\lib\\site-packages (from nbconvert->notebook>=4.2->fileupload) (3.1.0)\n",
      "Requirement already satisfied: testpath in c:\\users\\super\\anaconda\\lib\\site-packages (from nbconvert->notebook>=4.2->fileupload) (0.4.4)\n",
      "Requirement already satisfied: pandocfilters>=1.4.1 in c:\\users\\super\\anaconda\\lib\\site-packages (from nbconvert->notebook>=4.2->fileupload) (1.4.2)\n",
      "Requirement already satisfied: pygments in c:\\users\\super\\anaconda\\lib\\site-packages (from nbconvert->notebook>=4.2->fileupload) (2.5.2)\n",
      "Requirement already satisfied: python-dateutil>=2.1 in c:\\users\\super\\anaconda\\lib\\site-packages (from jupyter-client>=5.3.4->notebook>=4.2->fileupload) (2.8.1)\n",
      "Requirement already satisfied: prompt-toolkit!=3.0.0,!=3.0.1,<3.1.0,>=2.0.0 in c:\\users\\super\\anaconda\\lib\\site-packages (from ipython>=4.0.0; python_version >= \"3.3\"->ipywidgets>=5.1->fileupload) (3.0.3)\n",
      "Requirement already satisfied: jedi>=0.10 in c:\\users\\super\\anaconda\\lib\\site-packages (from ipython>=4.0.0; python_version >= \"3.3\"->ipywidgets>=5.1->fileupload) (0.14.1)\n",
      "Requirement already satisfied: setuptools>=18.5 in c:\\users\\super\\anaconda\\lib\\site-packages (from ipython>=4.0.0; python_version >= \"3.3\"->ipywidgets>=5.1->fileupload) (45.2.0.post20200210)\n",
      "Requirement already satisfied: backcall in c:\\users\\super\\anaconda\\lib\\site-packages (from ipython>=4.0.0; python_version >= \"3.3\"->ipywidgets>=5.1->fileupload) (0.1.0)\n",
      "Requirement already satisfied: pickleshare in c:\\users\\super\\anaconda\\lib\\site-packages (from ipython>=4.0.0; python_version >= \"3.3\"->ipywidgets>=5.1->fileupload) (0.7.5)\n",
      "Requirement already satisfied: colorama; sys_platform == \"win32\" in c:\\users\\super\\anaconda\\lib\\site-packages (from ipython>=4.0.0; python_version >= \"3.3\"->ipywidgets>=5.1->fileupload) (0.4.3)\n",
      "Requirement already satisfied: importlib-metadata; python_version < \"3.8\" in c:\\users\\super\\anaconda\\lib\\site-packages (from jsonschema!=2.5.0,>=2.4->nbformat->notebook>=4.2->fileupload) (1.5.0)\n",
      "Requirement already satisfied: attrs>=17.4.0 in c:\\users\\super\\anaconda\\lib\\site-packages (from jsonschema!=2.5.0,>=2.4->nbformat->notebook>=4.2->fileupload) (19.3.0)\n",
      "Requirement already satisfied: pyrsistent>=0.14.0 in c:\\users\\super\\anaconda\\lib\\site-packages (from jsonschema!=2.5.0,>=2.4->nbformat->notebook>=4.2->fileupload) (0.15.7)\n",
      "Requirement already satisfied: webencodings in c:\\users\\super\\anaconda\\lib\\site-packages (from bleach->nbconvert->notebook>=4.2->fileupload) (0.5.1)\n",
      "Requirement already satisfied: wcwidth in c:\\users\\super\\anaconda\\lib\\site-packages (from prompt-toolkit!=3.0.0,!=3.0.1,<3.1.0,>=2.0.0->ipython>=4.0.0; python_version >= \"3.3\"->ipywidgets>=5.1->fileupload) (0.1.8)\n",
      "Requirement already satisfied: parso>=0.5.0 in c:\\users\\super\\anaconda\\lib\\site-packages (from jedi>=0.10->ipython>=4.0.0; python_version >= \"3.3\"->ipywidgets>=5.1->fileupload) (0.5.2)\n",
      "Requirement already satisfied: zipp>=0.5 in c:\\users\\super\\anaconda\\lib\\site-packages (from importlib-metadata; python_version < \"3.8\"->jsonschema!=2.5.0,>=2.4->nbformat->notebook>=4.2->fileupload) (2.2.0)\n"
     ]
    },
    {
     "name": "stderr",
     "output_type": "stream",
     "text": [
      "WARNING: You are using pip version 20.2; however, version 20.2.1 is available.\n",
      "You should consider upgrading via the 'c:\\users\\super\\anaconda\\python.exe -m pip install --upgrade pip' command.\n"
     ]
    },
    {
     "name": "stdout",
     "output_type": "stream",
     "text": [
      "Requirement already satisfied: ipywidgets in c:\\users\\super\\anaconda\\lib\\site-packages (7.5.1)\n",
      "Requirement already satisfied: ipykernel>=4.5.1 in c:\\users\\super\\anaconda\\lib\\site-packages (from ipywidgets) (5.1.4)\n",
      "Requirement already satisfied: nbformat>=4.2.0 in c:\\users\\super\\anaconda\\lib\\site-packages (from ipywidgets) (5.0.4)\n",
      "Requirement already satisfied: widgetsnbextension~=3.5.0 in c:\\users\\super\\anaconda\\lib\\site-packages (from ipywidgets) (3.5.1)\n",
      "Requirement already satisfied: ipython>=4.0.0; python_version >= \"3.3\" in c:\\users\\super\\anaconda\\lib\\site-packages (from ipywidgets) (7.12.0)\n",
      "Requirement already satisfied: traitlets>=4.3.1 in c:\\users\\super\\anaconda\\lib\\site-packages (from ipywidgets) (4.3.3)\n",
      "Requirement already satisfied: jupyter-client in c:\\users\\super\\anaconda\\lib\\site-packages (from ipykernel>=4.5.1->ipywidgets) (5.3.4)\n",
      "Requirement already satisfied: tornado>=4.2 in c:\\users\\super\\anaconda\\lib\\site-packages (from ipykernel>=4.5.1->ipywidgets) (6.0.3)\n",
      "Requirement already satisfied: ipython-genutils in c:\\users\\super\\anaconda\\lib\\site-packages (from nbformat>=4.2.0->ipywidgets) (0.2.0)\n",
      "Requirement already satisfied: jupyter-core in c:\\users\\super\\anaconda\\lib\\site-packages (from nbformat>=4.2.0->ipywidgets) (4.6.1)\n",
      "Requirement already satisfied: jsonschema!=2.5.0,>=2.4 in c:\\users\\super\\anaconda\\lib\\site-packages (from nbformat>=4.2.0->ipywidgets) (3.2.0)\n",
      "Requirement already satisfied: notebook>=4.4.1 in c:\\users\\super\\anaconda\\lib\\site-packages (from widgetsnbextension~=3.5.0->ipywidgets) (6.0.3)\n",
      "Requirement already satisfied: setuptools>=18.5 in c:\\users\\super\\anaconda\\lib\\site-packages (from ipython>=4.0.0; python_version >= \"3.3\"->ipywidgets) (45.2.0.post20200210)\n",
      "Requirement already satisfied: decorator in c:\\users\\super\\anaconda\\lib\\site-packages (from ipython>=4.0.0; python_version >= \"3.3\"->ipywidgets) (4.4.1)\n",
      "Requirement already satisfied: backcall in c:\\users\\super\\anaconda\\lib\\site-packages (from ipython>=4.0.0; python_version >= \"3.3\"->ipywidgets) (0.1.0)\n",
      "Requirement already satisfied: pickleshare in c:\\users\\super\\anaconda\\lib\\site-packages (from ipython>=4.0.0; python_version >= \"3.3\"->ipywidgets) (0.7.5)\n",
      "Requirement already satisfied: pygments in c:\\users\\super\\anaconda\\lib\\site-packages (from ipython>=4.0.0; python_version >= \"3.3\"->ipywidgets) (2.5.2)\n",
      "Requirement already satisfied: colorama; sys_platform == \"win32\" in c:\\users\\super\\anaconda\\lib\\site-packages (from ipython>=4.0.0; python_version >= \"3.3\"->ipywidgets) (0.4.3)\n",
      "Requirement already satisfied: prompt-toolkit!=3.0.0,!=3.0.1,<3.1.0,>=2.0.0 in c:\\users\\super\\anaconda\\lib\\site-packages (from ipython>=4.0.0; python_version >= \"3.3\"->ipywidgets) (3.0.3)\n",
      "Requirement already satisfied: jedi>=0.10 in c:\\users\\super\\anaconda\\lib\\site-packages (from ipython>=4.0.0; python_version >= \"3.3\"->ipywidgets) (0.14.1)\n",
      "Requirement already satisfied: six in c:\\users\\super\\anaconda\\lib\\site-packages (from traitlets>=4.3.1->ipywidgets) (1.14.0)\n",
      "Requirement already satisfied: python-dateutil>=2.1 in c:\\users\\super\\anaconda\\lib\\site-packages (from jupyter-client->ipykernel>=4.5.1->ipywidgets) (2.8.1)\n",
      "Requirement already satisfied: pywin32>=1.0; sys_platform == \"win32\" in c:\\users\\super\\anaconda\\lib\\site-packages (from jupyter-client->ipykernel>=4.5.1->ipywidgets) (227)\n",
      "Requirement already satisfied: pyzmq>=13 in c:\\users\\super\\anaconda\\lib\\site-packages (from jupyter-client->ipykernel>=4.5.1->ipywidgets) (18.1.1)\n",
      "Requirement already satisfied: importlib-metadata; python_version < \"3.8\" in c:\\users\\super\\anaconda\\lib\\site-packages (from jsonschema!=2.5.0,>=2.4->nbformat>=4.2.0->ipywidgets) (1.5.0)\n",
      "Requirement already satisfied: attrs>=17.4.0 in c:\\users\\super\\anaconda\\lib\\site-packages (from jsonschema!=2.5.0,>=2.4->nbformat>=4.2.0->ipywidgets) (19.3.0)\n",
      "Requirement already satisfied: pyrsistent>=0.14.0 in c:\\users\\super\\anaconda\\lib\\site-packages (from jsonschema!=2.5.0,>=2.4->nbformat>=4.2.0->ipywidgets) (0.15.7)\n",
      "Requirement already satisfied: jinja2 in c:\\users\\super\\anaconda\\lib\\site-packages (from notebook>=4.4.1->widgetsnbextension~=3.5.0->ipywidgets) (2.11.1)\n",
      "Requirement already satisfied: prometheus-client in c:\\users\\super\\anaconda\\lib\\site-packages (from notebook>=4.4.1->widgetsnbextension~=3.5.0->ipywidgets) (0.7.1)\n",
      "Requirement already satisfied: terminado>=0.8.1 in c:\\users\\super\\anaconda\\lib\\site-packages (from notebook>=4.4.1->widgetsnbextension~=3.5.0->ipywidgets) (0.8.3)\n",
      "Requirement already satisfied: nbconvert in c:\\users\\super\\anaconda\\lib\\site-packages (from notebook>=4.4.1->widgetsnbextension~=3.5.0->ipywidgets) (5.6.1)\n",
      "Requirement already satisfied: Send2Trash in c:\\users\\super\\anaconda\\lib\\site-packages (from notebook>=4.4.1->widgetsnbextension~=3.5.0->ipywidgets) (1.5.0)\n",
      "Requirement already satisfied: wcwidth in c:\\users\\super\\anaconda\\lib\\site-packages (from prompt-toolkit!=3.0.0,!=3.0.1,<3.1.0,>=2.0.0->ipython>=4.0.0; python_version >= \"3.3\"->ipywidgets) (0.1.8)\n",
      "Requirement already satisfied: parso>=0.5.0 in c:\\users\\super\\anaconda\\lib\\site-packages (from jedi>=0.10->ipython>=4.0.0; python_version >= \"3.3\"->ipywidgets) (0.5.2)\n",
      "Requirement already satisfied: zipp>=0.5 in c:\\users\\super\\anaconda\\lib\\site-packages (from importlib-metadata; python_version < \"3.8\"->jsonschema!=2.5.0,>=2.4->nbformat>=4.2.0->ipywidgets) (2.2.0)\n",
      "Requirement already satisfied: MarkupSafe>=0.23 in c:\\users\\super\\anaconda\\lib\\site-packages (from jinja2->notebook>=4.4.1->widgetsnbextension~=3.5.0->ipywidgets) (1.1.1)\n",
      "Requirement already satisfied: pandocfilters>=1.4.1 in c:\\users\\super\\anaconda\\lib\\site-packages (from nbconvert->notebook>=4.4.1->widgetsnbextension~=3.5.0->ipywidgets) (1.4.2)\n",
      "Requirement already satisfied: bleach in c:\\users\\super\\anaconda\\lib\\site-packages (from nbconvert->notebook>=4.4.1->widgetsnbextension~=3.5.0->ipywidgets) (3.1.0)\n",
      "Requirement already satisfied: defusedxml in c:\\users\\super\\anaconda\\lib\\site-packages (from nbconvert->notebook>=4.4.1->widgetsnbextension~=3.5.0->ipywidgets) (0.6.0)\n",
      "Requirement already satisfied: entrypoints>=0.2.2 in c:\\users\\super\\anaconda\\lib\\site-packages (from nbconvert->notebook>=4.4.1->widgetsnbextension~=3.5.0->ipywidgets) (0.3)\n",
      "Requirement already satisfied: testpath in c:\\users\\super\\anaconda\\lib\\site-packages (from nbconvert->notebook>=4.4.1->widgetsnbextension~=3.5.0->ipywidgets) (0.4.4)\n",
      "Requirement already satisfied: mistune<2,>=0.8.1 in c:\\users\\super\\anaconda\\lib\\site-packages (from nbconvert->notebook>=4.4.1->widgetsnbextension~=3.5.0->ipywidgets) (0.8.4)\n",
      "Requirement already satisfied: webencodings in c:\\users\\super\\anaconda\\lib\\site-packages (from bleach->nbconvert->notebook>=4.4.1->widgetsnbextension~=3.5.0->ipywidgets) (0.5.1)\n"
     ]
    },
    {
     "name": "stderr",
     "output_type": "stream",
     "text": [
      "WARNING: You are using pip version 20.2; however, version 20.2.1 is available.\n",
      "You should consider upgrading via the 'c:\\users\\super\\anaconda\\python.exe -m pip install --upgrade pip' command.\n",
      "Installing C:\\Users\\super\\anaconda\\lib\\site-packages\\fileupload\\static -> fileupload\n",
      "Up to date: C:\\Users\\super\\AppData\\Roaming\\jupyter\\nbextensions\\fileupload\\extension.js\n",
      "Up to date: C:\\Users\\super\\AppData\\Roaming\\jupyter\\nbextensions\\fileupload\\widget.js\n",
      "Up to date: C:\\Users\\super\\AppData\\Roaming\\jupyter\\nbextensions\\fileupload\\fileupload\\widget.js\n",
      "- Validating: ok\n",
      "\n",
      "    To initialize this nbextension in the browser every time the notebook (or other app) loads:\n",
      "    \n",
      "          jupyter nbextension enable fileupload --user --py\n",
      "    \n",
      "Enabling notebook extension fileupload/extension...\n",
      "      - Validating: ok\n"
     ]
    }
   ],
   "source": [
    "# This are all the installs and imports we will need for our word cloud script and uploader widget\n",
    "!pip install wordcloud\n",
    "!pip install fileupload\n",
    "!pip install ipywidgets\n",
    "!jupyter nbextension install --py --user fileupload\n",
    "!jupyter nbextension enable --py fileupload\n",
    "\n",
    "import wordcloud\n",
    "import numpy as np\n",
    "from matplotlib import pyplot as plt\n",
    "from IPython.display import display\n",
    "import fileupload\n",
    "import io\n",
    "import sys\n",
    "c:\\users\\super\\anaconda\\python.exe -m pip install --upgrade pip"
   ]
  },
  {
   "cell_type": "code",
   "execution_count": 4,
   "metadata": {},
   "outputs": [
    {
     "data": {
      "application/vnd.jupyter.widget-view+json": {
       "model_id": "419160abfc12400487aff092a31faa6c",
       "version_major": 2,
       "version_minor": 0
      },
      "text/plain": [
       "FileUploadWidget(label='Browse', _dom_classes=('widget_item', 'btn-group'))"
      ]
     },
     "metadata": {},
     "output_type": "display_data"
    },
    {
     "name": "stdout",
     "output_type": "stream",
     "text": [
      "Uploaded `python.txt` (0.98 kB)\n"
     ]
    }
   ],
   "source": [
    "def _upload():\n",
    "\n",
    "    _upload_widget = fileupload.FileUploadWidget()\n",
    "\n",
    "    def _cb(change):\n",
    "        global file_contents\n",
    "        decoded = io.StringIO(change['owner'].data.decode('utf-8'))\n",
    "        filename = change['owner'].filename\n",
    "        print('Uploaded `{}` ({:.2f} kB)'.format(\n",
    "            filename, len(decoded.read()) / 2 **10))\n",
    "        file_contents = decoded.getvalue()\n",
    "        \n",
    "    \n",
    "    _upload_widget.observe(_cb, names='data')\n",
    "    display(_upload_widget)\n",
    "\n",
    "_upload()"
   ]
  },
  {
   "cell_type": "code",
   "execution_count": 6,
   "metadata": {},
   "outputs": [],
   "source": [
    "def calculate_frequencies(file_contents):\n",
    "    # Here is a list of punctuations and uninteresting words you can use to process your text\n",
    "    punctuations = '''!()-[]{};:'\"\\,<>./?@#$%^&*_~'''\n",
    "    uninteresting_words = [\"the\", \"a\", \"to\", \"if\", \"is\", \"it\", \"of\", \"and\", \"or\", \"an\", \"as\", \"i\", \"me\", \"my\", \\\n",
    "    \"we\", \"our\", \"ours\", \"you\", \"your\", \"yours\", \"he\", \"she\", \"him\", \"his\", \"her\", \"hers\", \"its\", \"they\", \"them\", \\\n",
    "    \"their\", \"what\", \"which\", \"who\", \"whom\", \"this\", \"that\", \"am\", \"are\", \"was\", \"were\", \"be\", \"been\", \"being\", \\\n",
    "    \"have\", \"has\", \"had\", \"do\", \"does\", \"did\", \"but\", \"at\", \"by\", \"with\", \"from\", \"here\", \"when\", \"where\", \"how\", \\\n",
    "    \"all\", \"any\", \"both\", \"each\", \"few\", \"more\", \"some\", \"such\", \"no\", \"nor\", \"too\", \"very\", \"can\", \"will\", \"just\"]\n",
    "    \n",
    "    # LEARNER CODE START HERE\n",
    "    non_punctuations_text=\"\"\n",
    "    for char in text:\n",
    "        if char not in punctuations:\n",
    "            non_punctuations_text+=char\n",
    "            words=non_punctuations_text.split()\n",
    "            clean_words=[]\n",
    "            frequencies={}\n",
    "            for word in words:\n",
    "                if word.isalpha():\n",
    "                    if word not in uninteresting_words:\n",
    "                        clean_words.append(word)\n",
    "            for alpha_word in clean_words:\n",
    "                if alpha_word not in frequencies:\n",
    "                    frequencies[alpha_word]=1\n",
    "                else:\n",
    "                    frequencies[alpha_word]+=1\n",
    "   \n",
    "  \n",
    "    #wordcloud\n",
    "    cloud = wordcloud.WordCloud()\n",
    "    cloud.generate_from_frequencies(frequencies)\n",
    "    return cloud.to_array()\n"
   ]
  },
  {
   "cell_type": "code",
   "execution_count": 7,
   "metadata": {},
   "outputs": [
    {
     "data": {
      "image/png": "[encoded data removed]",
      "text/plain": [
       "<Figure size 432x288 with 1 Axes>"
      ]
     },
     "metadata": {
      "needs_background": "light"
     },
     "output_type": "display_data"
    }
   ],
   "source": [
    "myimage = calculate_frequencies(file_contents)\n",
    "plt.imshow(myimage, interpolation = 'nearest')\n",
    "plt.axis('off')\n",
    "plt.show()"
   ]
  },
  {
   "cell_type": "code",
   "execution_count": null,
   "metadata": {},
   "outputs": [],
   "source": []
  }
 ],
 "metadata": {
  "kernelspec": {
   "display_name": "Python 3",
   "language": "python",
   "name": "python3"
  },
  "language_info": {
   "codemirror_mode": {
    "name": "ipython",
    "version": 3
   },
   "file_extension": ".py",
   "mimetype": "text/x-python",
   "name": "python",
   "nbconvert_exporter": "python",
   "pygments_lexer": "ipython3",
   "version": "3.7.6"
  }
 },
 "nbformat": 4,
 "nbformat_minor": 4
}
